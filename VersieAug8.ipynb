{
 "cells": [
  {
   "cell_type": "code",
   "execution_count": 1,
   "metadata": {},
   "outputs": [],
   "source": [
    "import pandas as pd\n",
    "import numpy as np\n",
    "from sklearn.linear_model import MultiTaskElasticNetCV\n",
    "import matplotlib.pyplot as plt\n",
    "from sklearn.decomposition import PCA\n",
    "from sklearn.metrics import r2_score\n",
    "import statsmodels.api as sm\n",
    "from datetime import datetime"
   ]
  },
  {
   "cell_type": "code",
   "execution_count": 2,
   "metadata": {},
   "outputs": [],
   "source": [
    "def RMSE(data: pd.DataFrame, estimation: pd.DataFrame):\n",
    "    df_errors = (estimation - data)\n",
    "    df_rmse = ((df_errors) ** 2.0).mean(axis=0) ** 0.5\n",
    "    return df_rmse"
   ]
  },
  {
   "cell_type": "code",
   "execution_count": 3,
   "metadata": {},
   "outputs": [],
   "source": [
    "def standardize(variables):\n",
    "    central = (variables - variables.mean())\n",
    "    return central / central.std()"
   ]
  },
  {
   "cell_type": "code",
   "execution_count": 4,
   "metadata": {},
   "outputs": [],
   "source": [
    "def write_df_to_latex_table(path, df, stripe_index = False):\n",
    "    '''Writes a pandas DataFrame to a latex table, rounds all numbers to\n",
    "    two decimals.'''\n",
    "    with open(path, \"w\") as f:\n",
    "        f.write(df.round(2).to_latex(stripe_index = stripe_index))"
   ]
  }
 ],
 "metadata": {
  "kernelspec": {
   "display_name": "Python 3",
   "language": "python",
   "name": "python3"
  },
  "language_info": {
   "codemirror_mode": {
    "name": "ipython",
    "version": 3
   },
   "file_extension": ".py",
   "mimetype": "text/x-python",
   "name": "python",
   "nbconvert_exporter": "python",
   "pygments_lexer": "ipython3",
   "version": "3.12.4"
  }
 },
 "nbformat": 4,
 "nbformat_minor": 2
}
